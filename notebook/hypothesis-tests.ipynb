{
 "cells": [
  {
   "cell_type": "code",
   "execution_count": 1,
   "metadata": {},
   "outputs": [
    {
     "name": "stderr",
     "output_type": "stream",
     "text": [
      "/Users/ivanmykhailov/PROJECTS/HOME/hypothesis-python-demo/.venv/lib/python3.7/site-packages/ipytest/_unittest_support.py:18: FutureWarning: pandas.util.testing is deprecated. Use the functions in the public API at pandas.testing instead.\n",
      "  import pandas.util.testing as _pd_testing\n"
     ]
    }
   ],
   "source": [
    "# pytest-like detailed asserts \n",
    "import ipytest\n",
    "ipytest.config(rewrite_asserts=True, magics=True)\n",
    "\n",
    "import math\n",
    "from typing import List\n",
    "\n",
    "import numpy as np\n",
    "import pandas as pd\n",
    "\n",
    "from hypothesis import given\n",
    "from hypothesis.extra.pandas import data_frames, column\n",
    "from hypothesis.strategies import floats, integers, one_of, just\n",
    "\n",
    "from pandas.testing import assert_series_equal"
   ]
  },
  {
   "cell_type": "code",
   "execution_count": 2,
   "metadata": {},
   "outputs": [],
   "source": [
    "# function to test\n",
    "\n",
    "def percentile(data: pd.DataFrame, grouping_columns: List[str], value_column: str, q: float) -> float:\n",
    "    return data.groupby(grouping_columns)[value_column].quantile(q)"
   ]
  },
  {
   "cell_type": "code",
   "execution_count": 3,
   "metadata": {},
   "outputs": [],
   "source": [
    "# golden test\n",
    "# use fixed values and manually precalculated result\n",
    "\n",
    "def test_percentiles_golden():\n",
    "    data = pd.DataFrame([\n",
    "        [1, \"Dubai\", 23],\n",
    "        [2, \"Dubai\", 34.2],\n",
    "        [3, \"Dubai\", 34.2],\n",
    "        [4, \"Dubai\", 123],\n",
    "        [6, \"Dubai\", 111],\n",
    "        [7, \"Dubai\", 111],\n",
    "        [8, \"Abu-Dhabi\", 12],\n",
    "        [9, \"Abu-Dhabi\", 335],\n",
    "        [10, \"Abu-Dhabi\", 34],\n",
    "    ], columns=[\"trip_id\", \"area\", \"cost\"])\n",
    "    rez = percentile(data, [\"area\"], \"cost\", 0.75)\n",
    "    expected = pd.Series({\n",
    "        \"Abu-Dhabi\": 184.5,\n",
    "        \"Dubai\": 111,\n",
    "    })\n",
    "    expected.index.set_names(\"area\")\n",
    "    assert_series_equal(rez, expected, check_names=False)\n",
    "    \n",
    "test_percentiles_golden()"
   ]
  },
  {
   "cell_type": "code",
   "execution_count": 4,
   "metadata": {},
   "outputs": [],
   "source": [
    "# Using hypothesis library for proiperty-based tests\n",
    "\n",
    "def check_percentile_valid(values: pd.Series, percentile: float, q: float):\n",
    "    assert values.count() > 0\n",
    "    if len(values) == len(values.unique()):\n",
    "        # all unique\n",
    "        less_count = values.where(lambda x : x < percentile).count()\n",
    "        assert math.isclose(less_count / values.count(), q, abs_tol=1/values.count())\n",
    "    else:\n",
    "        assert percentile >= values.min()\n",
    "        assert percentile <= values.max()\n",
    "    \n",
    "    \n",
    "    \n",
    "@given(\n",
    "    data_frames(\n",
    "        columns=[\n",
    "            column(\n",
    "                name=\"trip_id\", \n",
    "                dtype=np.dtype(int), \n",
    "                elements=integers(min_value=0, max_value=32000), \n",
    "                unique=True),\n",
    "            column(\n",
    "                name=\"area\", \n",
    "                elements=one_of(just(\"Dubai\"), just(\"Abu-Dhabi\"))),\n",
    "            column(\n",
    "                name=\"cost\", \n",
    "                dtype=np.dtype(float), \n",
    "                elements=floats(width=16, allow_infinity=False, allow_nan=False), \n",
    "                unique=False) # simplifiaction, to don't cover cases like 1,1,1,1,1,1\n",
    "        ])\n",
    ")\n",
    "def test_percentiles(data):\n",
    "    rez = percentile(data, [\"area\"], \"cost\", 0.75)\n",
    "    for area in data[\"area\"].unique():\n",
    "        costs = data[data[\"area\"] == area][\"cost\"]\n",
    "        check_percentile_valid(costs, rez[area], 0.75)\n",
    "\n",
    "test_percentiles()\n"
   ]
  },
  {
   "cell_type": "code",
   "execution_count": 5,
   "metadata": {},
   "outputs": [],
   "source": [
    "# Most NumPy-based functions have mutual dimension compatibility constraints between arguments. \n",
    "# For instance, the np.dot function takes a (m,n) array and a (n,p) array. NumPy has developed the \n",
    "# notion of a function signature in its general universal (GU) function API. \n",
    "# For instance, the np.dot signature is ‘(m,n),(n,p)->(m,p)’.\n",
    "\n",
    "# Hypothesis GU Func can take a function signature and define a strategy that generates test \n",
    "# cases compatible with the signature.\n",
    "\n",
    "import numpy as np\n",
    "from hypothesis import given\n",
    "from hypothesis.strategies import floats\n",
    "\n",
    "from hypothesis_gufunc.gufunc import gufunc_args\n",
    "\n",
    "easy_floats = floats(min_value=-10, max_value=10)\n",
    "\n",
    "\n",
    "@given(gufunc_args(\n",
    "    \"(m,n),(n,p)->(m,p)\", \n",
    "    dtype=np.float_, \n",
    "    elements=floats(min_value=-10, max_value=10)))\n",
    "def test_np_dot(args):\n",
    "    x, y = args\n",
    "    #print(f\"{x.shape} {y.shape}\")\n",
    "    assert np.allclose(np.dot(x, y), np.dot(y.T, x.T).T)\n",
    "\n",
    "\n",
    "test_np_dot()"
   ]
  },
  {
   "cell_type": "code",
   "execution_count": null,
   "metadata": {},
   "outputs": [],
   "source": [
    "# Done"
   ]
  }
 ],
 "metadata": {
  "kernelspec": {
   "display_name": "Python 3",
   "language": "python",
   "name": "python3"
  },
  "language_info": {
   "codemirror_mode": {
    "name": "ipython",
    "version": 3
   },
   "file_extension": ".py",
   "mimetype": "text/x-python",
   "name": "python",
   "nbconvert_exporter": "python",
   "pygments_lexer": "ipython3",
   "version": "3.7.2"
  }
 },
 "nbformat": 4,
 "nbformat_minor": 4
}
